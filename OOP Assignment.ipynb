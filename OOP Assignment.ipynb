{
 "cells": [
  {
   "cell_type": "code",
   "execution_count": 1,
   "id": "3857d233",
   "metadata": {},
   "outputs": [],
   "source": [
    "import math"
   ]
  },
  {
   "cell_type": "code",
   "execution_count": 2,
   "id": "0c4c5114",
   "metadata": {},
   "outputs": [],
   "source": [
    "class Shape:\n",
    "    pass\n",
    "\n",
    "class Circle (Shape):\n",
    "\n",
    "    def __init__ (self,radius):\n",
    "        self.radius = radius\n",
    "\n",
    "    def area (self):\n",
    "        return math.pi * self.radius ** 2\n",
    "        pass\n",
    "\n",
    "    def perimeter (self):\n",
    "        return 2 * math.pi * self.radius\n",
    "\n",
    "\n",
    "    "
   ]
  },
  {
   "cell_type": "code",
   "execution_count": 3,
   "id": "41d69d65",
   "metadata": {},
   "outputs": [
    {
     "name": "stdout",
     "output_type": "stream",
     "text": [
      "Area: 78.53981633974483\n",
      "Perimeter: 31.41592653589793\n"
     ]
    }
   ],
   "source": [
    "my_circle = Circle (5)\n",
    "print (\"Area:\", my_circle.area())\n",
    "print (\"Perimeter:\", my_circle.perimeter())"
   ]
  },
  {
   "cell_type": "code",
   "execution_count": 4,
   "id": "74883d4e",
   "metadata": {},
   "outputs": [],
   "source": [
    "class Rectangle(Shape):\n",
    "    pass\n",
    "\n",
    "    def __init__(self,length,width):\n",
    "        self.length = length\n",
    "        self.width = width \n",
    "\n",
    "\n",
    "    def area (self):\n",
    "        return self.length * self.width\n",
    "    \n",
    "    def perimeter (self):\n",
    "        return 2* (self.length + self.width)"
   ]
  },
  {
   "cell_type": "code",
   "execution_count": 5,
   "id": "35ebcf9c",
   "metadata": {},
   "outputs": [
    {
     "name": "stdout",
     "output_type": "stream",
     "text": [
      "Area: 12\n",
      "Perimeter: 14\n"
     ]
    }
   ],
   "source": [
    "my_rectangle = Rectangle(4,3)\n",
    "print(\"Area:\", my_rectangle.area())\n",
    "print(\"Perimeter:\", my_rectangle.perimeter())"
   ]
  },
  {
   "cell_type": "code",
   "execution_count": 7,
   "id": "d76dfd60",
   "metadata": {},
   "outputs": [],
   "source": [
    "import math"
   ]
  },
  {
   "cell_type": "code",
   "execution_count": null,
   "id": "424436ea",
   "metadata": {},
   "outputs": [
    {
     "ename": "SyntaxError",
     "evalue": "invalid syntax. Perhaps you forgot a comma? (2846465421.py, line 12)",
     "output_type": "error",
     "traceback": [
      "  \u001b[36mCell\u001b[39m\u001b[36m \u001b[39m\u001b[32mIn[6]\u001b[39m\u001b[32m, line 12\u001b[39m\n\u001b[31m    \u001b[39m\u001b[31mreturn (self.side math.s)\u001b[39m\n            ^\n\u001b[31mSyntaxError\u001b[39m\u001b[31m:\u001b[39m invalid syntax. Perhaps you forgot a comma?\n"
     ]
    }
   ],
   "source": [
    "class Triangle(Shape):\n",
    "    pass\n",
    "\n",
    "    def __init__ (self,side):\n",
    "        self.side = side\n",
    "        \n",
    "\n",
    "    def perimeter(self):\n",
    "        return 3 * self.side\n",
    "    \n",
    "    def area(self):\n",
    "        return self.side*math.sqrt\n",
    "\n"
   ]
  },
  {
   "cell_type": "code",
   "execution_count": null,
   "id": "54a8a837",
   "metadata": {},
   "outputs": [
    {
     "ename": "AttributeError",
     "evalue": "'Triangle' object has no attribute 'base'",
     "output_type": "error",
     "traceback": [
      "\u001b[31m---------------------------------------------------------------------------\u001b[39m",
      "\u001b[31mAttributeError\u001b[39m                            Traceback (most recent call last)",
      "\u001b[36mCell\u001b[39m\u001b[36m \u001b[39m\u001b[32mIn[7]\u001b[39m\u001b[32m, line 2\u001b[39m\n\u001b[32m      1\u001b[39m my_triangle = Triangle(\u001b[32m4\u001b[39m)\n\u001b[32m----> \u001b[39m\u001b[32m2\u001b[39m \u001b[38;5;28mprint\u001b[39m(\u001b[33m\"\u001b[39m\u001b[33mArea:\u001b[39m\u001b[33m\"\u001b[39m, \u001b[43mmy_triangle\u001b[49m\u001b[43m.\u001b[49m\u001b[43marea\u001b[49m\u001b[43m(\u001b[49m\u001b[43m)\u001b[49m)\n\u001b[32m      3\u001b[39m \u001b[38;5;28mprint\u001b[39m(\u001b[33m\"\u001b[39m\u001b[33mPerimeter:\u001b[39m\u001b[33m\"\u001b[39m,my_triangle.perimeter())\n",
      "\u001b[36mCell\u001b[39m\u001b[36m \u001b[39m\u001b[32mIn[6]\u001b[39m\u001b[32m, line 12\u001b[39m, in \u001b[36mTriangle.area\u001b[39m\u001b[34m(self)\u001b[39m\n\u001b[32m     11\u001b[39m \u001b[38;5;28;01mdef\u001b[39;00m\u001b[38;5;250m \u001b[39m\u001b[34marea\u001b[39m(\u001b[38;5;28mself\u001b[39m):\n\u001b[32m---> \u001b[39m\u001b[32m12\u001b[39m     \u001b[38;5;28;01mreturn\u001b[39;00m (\u001b[38;5;28;43mself\u001b[39;49m\u001b[43m.\u001b[49m\u001b[43mbase\u001b[49m * \u001b[38;5;28mself\u001b[39m.height) / \u001b[32m2\u001b[39m\n",
      "\u001b[31mAttributeError\u001b[39m: 'Triangle' object has no attribute 'base'"
     ]
    }
   ],
   "source": [
    "my_triangle = Triangle(4)\n",
    "print(\"Area:\", my_triangle.area())\n",
    "print(\"Perimeter:\",my_triangle.perimeter())"
   ]
  }
 ],
 "metadata": {
  "kernelspec": {
   "display_name": "Python 3",
   "language": "python",
   "name": "python3"
  },
  "language_info": {
   "codemirror_mode": {
    "name": "ipython",
    "version": 3
   },
   "file_extension": ".py",
   "mimetype": "text/x-python",
   "name": "python",
   "nbconvert_exporter": "python",
   "pygments_lexer": "ipython3",
   "version": "3.13.7"
  }
 },
 "nbformat": 4,
 "nbformat_minor": 5
}
