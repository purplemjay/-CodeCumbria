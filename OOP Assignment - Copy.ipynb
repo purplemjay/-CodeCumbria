{
 "cells": [
  {
   "cell_type": "code",
   "execution_count": 1,
   "id": "3857d233",
   "metadata": {},
   "outputs": [],
   "source": [
    "import math"
   ]
  },
  {
   "cell_type": "code",
   "execution_count": 2,
   "id": "0c4c5114",
   "metadata": {},
   "outputs": [],
   "source": [
    "class Shape:\n",
    "    pass\n",
    "\n",
    "class Circle (Shape):\n",
    "\n",
    "    def __init__ (self,radius):\n",
    "        self.radius = radius\n",
    "\n",
    "    def area (self):\n",
    "        return math.pi * self.radius ** 2\n",
    "        pass\n",
    "\n",
    "    def perimeter (self):\n",
    "        return 2 * math.pi * self.radius\n",
    "\n",
    "\n",
    "    "
   ]
  },
  {
   "cell_type": "code",
   "execution_count": 3,
   "id": "41d69d65",
   "metadata": {},
   "outputs": [
    {
     "name": "stdout",
     "output_type": "stream",
     "text": [
      "Area: 78.53981633974483\n",
      "Perimeter: 31.41592653589793\n"
     ]
    }
   ],
   "source": [
    "my_circle = Circle (5)\n",
    "print (\"Area:\", my_circle.area())\n",
    "print (\"Perimeter:\", my_circle.perimeter())"
   ]
  },
  {
   "cell_type": "code",
   "execution_count": 4,
   "id": "74883d4e",
   "metadata": {},
   "outputs": [],
   "source": [
    "class Rectangle(Shape):\n",
    "    pass\n",
    "\n",
    "    def __init__(self,length,width):\n",
    "        self.length = length\n",
    "        self.width = width \n",
    "\n",
    "\n",
    "    def area (self):\n",
    "        return self.length * self.width\n",
    "    \n",
    "    def perimeter (self):\n",
    "        return 2* (self.length + self.width)"
   ]
  },
  {
   "cell_type": "code",
   "execution_count": 5,
   "id": "35ebcf9c",
   "metadata": {},
   "outputs": [
    {
     "name": "stdout",
     "output_type": "stream",
     "text": [
      "Area: 12\n",
      "Perimeter: 14\n"
     ]
    }
   ],
   "source": [
    "my_rectangle = Rectangle(4,3)\n",
    "print(\"Area:\", my_rectangle.area())\n",
    "print(\"Perimeter:\", my_rectangle.perimeter())"
   ]
  },
  {
   "cell_type": "code",
   "execution_count": 6,
   "id": "d76dfd60",
   "metadata": {},
   "outputs": [],
   "source": [
    "import math"
   ]
  },
  {
   "cell_type": "code",
   "execution_count": 9,
   "id": "424436ea",
   "metadata": {},
   "outputs": [],
   "source": [
    "class Triangle(Shape):\n",
    "    pass\n",
    "\n",
    "    def __init__ (self,side):\n",
    "        self.side = side\n",
    "        \n",
    "\n",
    "    def perimeter (self):\n",
    "        return 3 * self.side\n",
    "\n",
    "    \n",
    "    def area(self):\n",
    "        return self.side * math.sqrt\n",
    "\n"
   ]
  },
  {
   "cell_type": "code",
   "execution_count": 10,
   "id": "54a8a837",
   "metadata": {},
   "outputs": [
    {
     "name": "stdout",
     "output_type": "stream",
     "text": [
      "Area: 12\n",
      "Perimeter: 12\n"
     ]
    }
   ],
   "source": [
    "my_triangle = Triangle(4)\n",
    "print(\"Area:\", my_rectangle.area())\n",
    "print(\"Perimeter:\", my_triangle.perimeter())"
   ]
  }
 ],
 "metadata": {
  "kernelspec": {
   "display_name": "Python 3",
   "language": "python",
   "name": "python3"
  },
  "language_info": {
   "codemirror_mode": {
    "name": "ipython",
    "version": 3
   },
   "file_extension": ".py",
   "mimetype": "text/x-python",
   "name": "python",
   "nbconvert_exporter": "python",
   "pygments_lexer": "ipython3",
   "version": "3.13.7"
  }
 },
 "nbformat": 4,
 "nbformat_minor": 5
}
